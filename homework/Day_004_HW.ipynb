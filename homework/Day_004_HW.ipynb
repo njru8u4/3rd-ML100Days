{
 "cells": [
  {
   "cell_type": "markdown",
   "metadata": {},
   "source": [
    "## 練習時間\n",
    "資料的操作有很多，接下來的馬拉松中我們會介紹常被使用到的操作，參加者不妨先自行想像一下，第一次看到資料，我們一般會想知道什麼訊息？\n",
    "\n",
    "#### Ex: 如何知道資料的 row 數以及 column 數、有什麼欄位、多少欄位、如何截取部分的資料等等\n",
    "\n",
    "有了對資料的好奇之後，我們又怎麼通過程式碼來達成我們的目的呢？\n",
    "\n",
    "#### 可參考該[基礎教材](https://bookdata.readthedocs.io/en/latest/base/01_pandas.html#DataFrame-%E5%85%A5%E9%97%A8)或自行 google"
   ]
  },
  {
   "cell_type": "markdown",
   "metadata": {},
   "source": [
    "# [作業目標]\n",
    "- 熟悉更多的 Python 資料操作"
   ]
  },
  {
   "cell_type": "markdown",
   "metadata": {},
   "source": [
    "# [作業重點]\n",
    "- 列出資料的大小 (In[4], Hint : shape)\n",
    "- 列出所有欄位 (In[5], 有多種寫法)\n",
    "- 擷取部分資料 (In[6], Hint : loc 或 iloc)"
   ]
  },
  {
   "cell_type": "code",
   "execution_count": 1,
   "metadata": {},
   "outputs": [],
   "source": [
    "import os\n",
    "import numpy as np\n",
    "import pandas as pd"
   ]
  },
  {
   "cell_type": "code",
   "execution_count": 2,
   "metadata": {},
   "outputs": [],
   "source": [
    "# 設定 data_path\n",
    "dir_data = '../Part01/'"
   ]
  },
  {
   "cell_type": "code",
   "execution_count": 3,
   "metadata": {},
   "outputs": [
    {
     "name": "stdout",
     "output_type": "stream",
     "text": [
      "Path of read in data: ../Part01/application_train.csv\n"
     ]
    }
   ],
   "source": [
    "f_app = os.path.join(dir_data, 'application_train.csv')\n",
    "print('Path of read in data: %s' % (f_app))\n",
    "app_train = pd.read_csv(f_app)"
   ]
  },
  {
   "cell_type": "markdown",
   "metadata": {},
   "source": [
    "### 如果沒有想法，可以先嘗試找出剛剛例子中提到的問題的答案\n",
    "#### 資料的 row 數以及 column 數"
   ]
  },
  {
   "cell_type": "code",
   "execution_count": 6,
   "metadata": {},
   "outputs": [
    {
     "name": "stdout",
     "output_type": "stream",
     "text": [
      "(307511, 122)\n"
     ]
    }
   ],
   "source": [
    "print (app_train.shape)"
   ]
  },
  {
   "cell_type": "markdown",
   "metadata": {},
   "source": [
    "#### 列出所有欄位"
   ]
  },
  {
   "cell_type": "code",
   "execution_count": 8,
   "metadata": {},
   "outputs": [
    {
     "name": "stdout",
     "output_type": "stream",
     "text": [
      "Index(['SK_ID_CURR', 'TARGET', 'NAME_CONTRACT_TYPE', 'CODE_GENDER',\n",
      "       'FLAG_OWN_CAR', 'FLAG_OWN_REALTY', 'CNT_CHILDREN', 'AMT_INCOME_TOTAL',\n",
      "       'AMT_CREDIT', 'AMT_ANNUITY',\n",
      "       ...\n",
      "       'FLAG_DOCUMENT_18', 'FLAG_DOCUMENT_19', 'FLAG_DOCUMENT_20',\n",
      "       'FLAG_DOCUMENT_21', 'AMT_REQ_CREDIT_BUREAU_HOUR',\n",
      "       'AMT_REQ_CREDIT_BUREAU_DAY', 'AMT_REQ_CREDIT_BUREAU_WEEK',\n",
      "       'AMT_REQ_CREDIT_BUREAU_MON', 'AMT_REQ_CREDIT_BUREAU_QRT',\n",
      "       'AMT_REQ_CREDIT_BUREAU_YEAR'],\n",
      "      dtype='object', length=122)\n"
     ]
    }
   ],
   "source": [
    "print (app_train.columns)"
   ]
  },
  {
   "cell_type": "markdown",
   "metadata": {},
   "source": [
    "#### 截取部分資料"
   ]
  },
  {
   "cell_type": "code",
   "execution_count": 9,
   "metadata": {},
   "outputs": [
    {
     "name": "stdout",
     "output_type": "stream",
     "text": [
      "       CODE_GENDER FLAG_OWN_CAR FLAG_OWN_REALTY  CNT_CHILDREN  \\\n",
      "12               F            N               Y             0   \n",
      "13               M            Y               N             1   \n",
      "14               F            N               Y             0   \n",
      "15               M            Y               Y             0   \n",
      "16               M            N               N             0   \n",
      "17               F            N               Y             1   \n",
      "18               F            N               Y             0   \n",
      "19               F            N               Y             1   \n",
      "20               M            Y               Y             0   \n",
      "21               F            Y               Y             1   \n",
      "22               F            N               N             1   \n",
      "23               F            N               Y             0   \n",
      "24               M            Y               N             2   \n",
      "25               F            N               Y             0   \n",
      "26               F            N               Y             0   \n",
      "27               M            N               Y             1   \n",
      "28               M            Y               Y             0   \n",
      "29               M            N               Y             0   \n",
      "30               F            N               Y             0   \n",
      "31               F            N               Y             0   \n",
      "32               F            N               N             0   \n",
      "33               M            Y               N             1   \n",
      "34               F            N               Y             0   \n",
      "35               F            N               N             0   \n",
      "36               F            N               Y             2   \n",
      "37               M            N               Y             0   \n",
      "38               F            N               Y             0   \n",
      "39               M            Y               Y             0   \n",
      "40               M            N               Y             0   \n",
      "41               F            N               Y             0   \n",
      "...            ...          ...             ...           ...   \n",
      "307469           F            N               Y             0   \n",
      "307470           F            N               Y             0   \n",
      "307471           F            N               Y             2   \n",
      "307472           F            N               Y             1   \n",
      "307473           F            Y               Y             1   \n",
      "307474           M            Y               Y             2   \n",
      "307475           F            N               N             1   \n",
      "307476           F            N               N             2   \n",
      "307477           F            N               Y             0   \n",
      "307478           F            N               Y             0   \n",
      "307479           F            N               Y             1   \n",
      "307480           F            N               N             1   \n",
      "307481           M            N               Y             0   \n",
      "307482           F            Y               Y             0   \n",
      "307483           F            N               Y             0   \n",
      "307484           F            Y               N             0   \n",
      "307485           F            N               Y             1   \n",
      "307486           F            Y               Y             1   \n",
      "307487           M            N               Y             0   \n",
      "307488           F            N               N             0   \n",
      "307489           F            N               Y             0   \n",
      "307490           M            N               Y             0   \n",
      "307491           M            Y               Y             2   \n",
      "307492           M            Y               Y             0   \n",
      "307493           F            N               Y             0   \n",
      "307494           M            Y               N             1   \n",
      "307495           M            Y               N             0   \n",
      "307496           F            N               N             0   \n",
      "307497           F            Y               Y             0   \n",
      "307498           M            Y               Y             0   \n",
      "\n",
      "        AMT_INCOME_TOTAL  AMT_CREDIT  \n",
      "12               67500.0     80865.0  \n",
      "13              225000.0    918468.0  \n",
      "14              189000.0    773680.5  \n",
      "15              157500.0    299772.0  \n",
      "16              108000.0    509602.5  \n",
      "17               81000.0    270000.0  \n",
      "18              112500.0    157500.0  \n",
      "19               90000.0    544491.0  \n",
      "20              135000.0    427500.0  \n",
      "21              202500.0   1132573.5  \n",
      "22              450000.0    497520.0  \n",
      "23               83250.0    239850.0  \n",
      "24              135000.0    247500.0  \n",
      "25               90000.0    225000.0  \n",
      "26              112500.0    979992.0  \n",
      "27              112500.0    327024.0  \n",
      "28              270000.0    790830.0  \n",
      "29               90000.0    180000.0  \n",
      "30              292500.0    665892.0  \n",
      "31              112500.0    512064.0  \n",
      "32               90000.0    199008.0  \n",
      "33              360000.0    733315.5  \n",
      "34              135000.0   1125000.0  \n",
      "35              112500.0    450000.0  \n",
      "36              198000.0    641173.5  \n",
      "37              121500.0    454500.0  \n",
      "38               99000.0    247275.0  \n",
      "39              180000.0    540000.0  \n",
      "40              202500.0   1193580.0  \n",
      "41              202500.0    604152.0  \n",
      "...                  ...         ...  \n",
      "307469          202500.0    703728.0  \n",
      "307470           90000.0    270000.0  \n",
      "307471          112500.0    592560.0  \n",
      "307472          135000.0    808650.0  \n",
      "307473           90000.0    258709.5  \n",
      "307474          135000.0    360000.0  \n",
      "307475          144000.0   1303200.0  \n",
      "307476          135000.0   1762110.0  \n",
      "307477          360000.0    796396.5  \n",
      "307478          225000.0   1125000.0  \n",
      "307479          112500.0    521280.0  \n",
      "307480           81000.0   1350000.0  \n",
      "307481          225000.0    297000.0  \n",
      "307482          225000.0    500566.5  \n",
      "307483           99000.0    247275.0  \n",
      "307484          540000.0    545040.0  \n",
      "307485          270000.0    180000.0  \n",
      "307486          292500.0    355536.0  \n",
      "307487          117000.0   1071909.0  \n",
      "307488          157500.0    135000.0  \n",
      "307489          225000.0    521280.0  \n",
      "307490           81000.0    135000.0  \n",
      "307491           90000.0   1078200.0  \n",
      "307492          585000.0   1575000.0  \n",
      "307493          135000.0    946764.0  \n",
      "307494          270000.0    479700.0  \n",
      "307495          180000.0    808650.0  \n",
      "307496          360000.0    337500.0  \n",
      "307497          180000.0    270126.0  \n",
      "307498          198000.0   1312110.0  \n",
      "\n",
      "[307487 rows x 6 columns]\n"
     ]
    }
   ],
   "source": [
    "print (app_train.iloc[12:-12, 3: 9])"
   ]
  },
  {
   "cell_type": "markdown",
   "metadata": {},
   "source": [
    "#### 還有各種數之不盡的資料操作，重點還是取決於實務中遇到的狀況和你想問的問題，在馬拉松中我們也會陸續提到更多例子"
   ]
  },
  {
   "cell_type": "code",
   "execution_count": null,
   "metadata": {
    "collapsed": true
   },
   "outputs": [],
   "source": []
  }
 ],
 "metadata": {
  "kernelspec": {
   "display_name": "Python 3",
   "language": "python",
   "name": "python3"
  },
  "language_info": {
   "codemirror_mode": {
    "name": "ipython",
    "version": 3
   },
   "file_extension": ".py",
   "mimetype": "text/x-python",
   "name": "python",
   "nbconvert_exporter": "python",
   "pygments_lexer": "ipython3",
   "version": "3.7.3"
  }
 },
 "nbformat": 4,
 "nbformat_minor": 2
}
